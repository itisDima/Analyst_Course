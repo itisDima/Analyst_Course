{
 "cells": [
  {
   "cell_type": "markdown",
   "id": "4714d9b1",
   "metadata": {},
   "source": [
    "# Минипроект 4.\n",
    "Итак, настало время провести свой первый A/B тест! \n",
    "\n",
    "## Задание\n",
    "Представьте, что вы работаете аналитиком в очень крупной компании по доставке пиццы над приложением для курьеров (да, обычно в таких компаниях есть приложение для курьеров и отдельно приложение для потребителей).\n",
    "\n",
    "У вас есть несколько ресторанов в разных частях города и целый штат курьеров. Но есть одна проблема, к вечеру скорость доставки падает из-за того, что курьеры уходят домой после рабочего дня, а количество заказов лишь растет. Это приводит к тому, что в момент пересмены наша доставка очень сильно проседает в эффективности. \n",
    "\n",
    "Наши data scientist-ы придумали новый алгоритм, который позволяет курьерам запланировать свои последние заказы перед окончанием рабочего дня так, чтобы их маршрут доставки совпадал с маршрутом до дома. То есть, чтобы курьеры доставляли последние свои заказы за день как бы \"по пути\" домой. \n",
    "\n",
    "Вы вместе с командой решили раскатить A/B тест на две равные группы курьеров. Часть курьеров использует старый алгоритм без опции \"по пути\", другие видят в своем приложении эту опцию и могут ее выбрать. Ваша задача – проанализировать данные эксперимента и помочь бизнесу принять решение о раскатке новой фичи на всех курьеров.\n",
    "## Описание данных:\n",
    "- order_id - id заказа\n",
    "- delivery_time - время доставки в минутах\n",
    "- district - район доставки\n",
    "- experiment_group - экспериментальная группа"
   ]
  },
  {
   "cell_type": "markdown",
   "id": "4bfaff4a",
   "metadata": {},
   "source": [
    "### Задание №1.\n",
    "Для начала давайте сформулируем гипотезы для проверки. Выберите гипотезы, которые мы сможем проверить в этом эксперименте:\n",
    "- Альтернативная гипотеза (H1): Разница между средним временем доставки в тестовой и контрольной группе есть\n",
    "- Нулевая гипотеза (H0): Изменение алгоритма не влияет на скорость доставки\n",
    "- Альтернативная гипотеза (H1): Разницы между средним временем доставки в тестовой и контрольной нет\n",
    "- Альтернативная гипотеза (H1): Изменение алгоритма влияет на скорость доставки\n",
    "- Нулевая гипотеза (H0): Разницы между средним временем доставки в тестовой и контрольной группе нет\n",
    "- Нулевая гипотеза (H0): Разница между средним временем доставки в тестовой и контрольной группе есть"
   ]
  },
  {
   "cell_type": "markdown",
   "id": "a6b05684",
   "metadata": {},
   "source": [
    "**Ответ:** \n",
    "- Альтернативная гипотеза (H1): Разница между средним временем доставки в тестовой и контрольной группе есть\n",
    "- Нулевая гипотеза (H0): Разницы между средним временем доставки в тестовой и контрольной группе нет"
   ]
  },
  {
   "cell_type": "markdown",
   "id": "9b5804c2",
   "metadata": {},
   "source": [
    "### Задание №2.\n",
    "Посчитайте количество наблюдений в тестовой и контрольной группе. На сколько по модулю отличается количество наблюдений в тесте и контроле?"
   ]
  },
  {
   "cell_type": "code",
   "execution_count": 1,
   "id": "151e9e43",
   "metadata": {},
   "outputs": [],
   "source": [
    "import pandas as pd\n",
    "import numpy as np\n",
    "from scipy import stats\n",
    "import seaborn as sns\n",
    "import matplotlib.pyplot as plt"
   ]
  },
  {
   "cell_type": "code",
   "execution_count": 2,
   "id": "6fd8873e",
   "metadata": {},
   "outputs": [
    {
     "data": {
      "text/html": [
       "<div>\n",
       "<style scoped>\n",
       "    .dataframe tbody tr th:only-of-type {\n",
       "        vertical-align: middle;\n",
       "    }\n",
       "\n",
       "    .dataframe tbody tr th {\n",
       "        vertical-align: top;\n",
       "    }\n",
       "\n",
       "    .dataframe thead th {\n",
       "        text-align: right;\n",
       "    }\n",
       "</style>\n",
       "<table border=\"1\" class=\"dataframe\">\n",
       "  <thead>\n",
       "    <tr style=\"text-align: right;\">\n",
       "      <th></th>\n",
       "      <th>order_id</th>\n",
       "      <th>delivery_time</th>\n",
       "      <th>district</th>\n",
       "      <th>experiment_group</th>\n",
       "    </tr>\n",
       "  </thead>\n",
       "  <tbody>\n",
       "    <tr>\n",
       "      <th>0</th>\n",
       "      <td>3159</td>\n",
       "      <td>44.0</td>\n",
       "      <td>Purlieus</td>\n",
       "      <td>control</td>\n",
       "    </tr>\n",
       "    <tr>\n",
       "      <th>1</th>\n",
       "      <td>10426</td>\n",
       "      <td>51.0</td>\n",
       "      <td>Purlieus</td>\n",
       "      <td>control</td>\n",
       "    </tr>\n",
       "    <tr>\n",
       "      <th>2</th>\n",
       "      <td>9155</td>\n",
       "      <td>46.0</td>\n",
       "      <td>Purlieus</td>\n",
       "      <td>control</td>\n",
       "    </tr>\n",
       "    <tr>\n",
       "      <th>3</th>\n",
       "      <td>10699</td>\n",
       "      <td>34.0</td>\n",
       "      <td>Purlieus</td>\n",
       "      <td>control</td>\n",
       "    </tr>\n",
       "    <tr>\n",
       "      <th>4</th>\n",
       "      <td>10061</td>\n",
       "      <td>43.0</td>\n",
       "      <td>Purlieus</td>\n",
       "      <td>control</td>\n",
       "    </tr>\n",
       "    <tr>\n",
       "      <th>...</th>\n",
       "      <td>...</td>\n",
       "      <td>...</td>\n",
       "      <td>...</td>\n",
       "      <td>...</td>\n",
       "    </tr>\n",
       "    <tr>\n",
       "      <th>20191</th>\n",
       "      <td>14561</td>\n",
       "      <td>42.0</td>\n",
       "      <td>Suburb</td>\n",
       "      <td>test</td>\n",
       "    </tr>\n",
       "    <tr>\n",
       "      <th>20192</th>\n",
       "      <td>12015</td>\n",
       "      <td>32.0</td>\n",
       "      <td>Suburb</td>\n",
       "      <td>test</td>\n",
       "    </tr>\n",
       "    <tr>\n",
       "      <th>20193</th>\n",
       "      <td>20077</td>\n",
       "      <td>23.0</td>\n",
       "      <td>Purlieus</td>\n",
       "      <td>test</td>\n",
       "    </tr>\n",
       "    <tr>\n",
       "      <th>20194</th>\n",
       "      <td>14861</td>\n",
       "      <td>41.0</td>\n",
       "      <td>Central</td>\n",
       "      <td>test</td>\n",
       "    </tr>\n",
       "    <tr>\n",
       "      <th>20195</th>\n",
       "      <td>13501</td>\n",
       "      <td>41.0</td>\n",
       "      <td>Central</td>\n",
       "      <td>test</td>\n",
       "    </tr>\n",
       "  </tbody>\n",
       "</table>\n",
       "<p>20196 rows × 4 columns</p>\n",
       "</div>"
      ],
      "text/plain": [
       "       order_id  delivery_time  district experiment_group\n",
       "0          3159           44.0  Purlieus          control\n",
       "1         10426           51.0  Purlieus          control\n",
       "2          9155           46.0  Purlieus          control\n",
       "3         10699           34.0  Purlieus          control\n",
       "4         10061           43.0  Purlieus          control\n",
       "...         ...            ...       ...              ...\n",
       "20191     14561           42.0    Suburb             test\n",
       "20192     12015           32.0    Suburb             test\n",
       "20193     20077           23.0  Purlieus             test\n",
       "20194     14861           41.0   Central             test\n",
       "20195     13501           41.0   Central             test\n",
       "\n",
       "[20196 rows x 4 columns]"
      ]
     },
     "execution_count": 2,
     "metadata": {},
     "output_type": "execute_result"
    }
   ],
   "source": [
    "couriers = pd.read_csv('C:/Users/79196/Projects/data/experiment_lesson_4.csv')\n",
    "couriers"
   ]
  },
  {
   "cell_type": "code",
   "execution_count": 3,
   "id": "7c14d7e4",
   "metadata": {},
   "outputs": [
    {
     "data": {
      "text/html": [
       "<div>\n",
       "<style scoped>\n",
       "    .dataframe tbody tr th:only-of-type {\n",
       "        vertical-align: middle;\n",
       "    }\n",
       "\n",
       "    .dataframe tbody tr th {\n",
       "        vertical-align: top;\n",
       "    }\n",
       "\n",
       "    .dataframe thead th {\n",
       "        text-align: right;\n",
       "    }\n",
       "</style>\n",
       "<table border=\"1\" class=\"dataframe\">\n",
       "  <thead>\n",
       "    <tr style=\"text-align: right;\">\n",
       "      <th></th>\n",
       "      <th>experiment_group</th>\n",
       "      <th>order_id</th>\n",
       "    </tr>\n",
       "  </thead>\n",
       "  <tbody>\n",
       "    <tr>\n",
       "      <th>0</th>\n",
       "      <td>control</td>\n",
       "      <td>10092</td>\n",
       "    </tr>\n",
       "    <tr>\n",
       "      <th>1</th>\n",
       "      <td>test</td>\n",
       "      <td>10104</td>\n",
       "    </tr>\n",
       "  </tbody>\n",
       "</table>\n",
       "</div>"
      ],
      "text/plain": [
       "  experiment_group  order_id\n",
       "0          control     10092\n",
       "1             test     10104"
      ]
     },
     "execution_count": 3,
     "metadata": {},
     "output_type": "execute_result"
    }
   ],
   "source": [
    "count_nabl = couriers.groupby('experiment_group').agg({'order_id':'count'}).reset_index()\n",
    "count_nabl"
   ]
  },
  {
   "cell_type": "markdown",
   "id": "64863f29",
   "metadata": {},
   "source": [
    "**Ответ:** разница между контрольной и тестовой группой равна 12"
   ]
  },
  {
   "cell_type": "markdown",
   "id": "16b0535c",
   "metadata": {},
   "source": [
    "### Задание №3.\n",
    "Теперь давайте изучим наши распределения. Проверим выполнение условий на нормальность и посчитаем стандартное отклонение в тесте и в контроле.\n",
    "\n",
    "Обязательно сделайте семплирование перед применением критерия при проверке на нормальность (и для теста, и для контроля), так как на больших выборках вы можете получать неверные результаты.\n",
    "\n",
    "- Для того, чтобы проверить нормальность распределения, я использую SHAPIRO-WILK TEST\n",
    "- тот тест показывает, что значения в тестовой группе распределены НОРМАЛЬНО\n",
    "- В контрольной группе распределение является НОРМАЛЬНЫМ\n",
    "- Стандартное отклонение времени доставки в тесте равно (округлите до сотых) 9.88\n",
    "- Стандартное отклонение времени доставки в контроле равно (округлите до сотых) 9.99\n"
   ]
  },
  {
   "cell_type": "code",
   "execution_count": 4,
   "id": "9419fc15",
   "metadata": {},
   "outputs": [
    {
     "data": {
      "text/plain": [
       "7144    42.0\n",
       "6231    42.0\n",
       "6902    41.0\n",
       "7032    54.0\n",
       "2009    44.0\n",
       "        ... \n",
       "752     54.0\n",
       "3754    63.0\n",
       "5420    64.0\n",
       "8119    49.0\n",
       "4804    45.0\n",
       "Name: delivery_time, Length: 1000, dtype: float64"
      ]
     },
     "execution_count": 4,
     "metadata": {},
     "output_type": "execute_result"
    }
   ],
   "source": [
    "sample_couriers_control = couriers[couriers['experiment_group'] == 'control']['delivery_time'].sample(1000, random_state=17)\n",
    "sample_couriers_control"
   ]
  },
  {
   "cell_type": "code",
   "execution_count": 5,
   "id": "5b643928",
   "metadata": {},
   "outputs": [
    {
     "data": {
      "text/plain": [
       "17877    37.0\n",
       "18499    39.0\n",
       "16476    48.0\n",
       "14602    30.0\n",
       "16719    25.0\n",
       "         ... \n",
       "12410    40.0\n",
       "18882    47.0\n",
       "15944    47.0\n",
       "14618    41.0\n",
       "18816    36.0\n",
       "Name: delivery_time, Length: 1000, dtype: float64"
      ]
     },
     "execution_count": 5,
     "metadata": {},
     "output_type": "execute_result"
    }
   ],
   "source": [
    "sample_couriers_test = couriers[couriers['experiment_group'] == 'test']['delivery_time'].sample(1000, random_state=17)\n",
    "sample_couriers_test"
   ]
  },
  {
   "cell_type": "code",
   "execution_count": 6,
   "id": "4f4e0cb8",
   "metadata": {},
   "outputs": [
    {
     "data": {
      "text/plain": [
       "index            2913.453792\n",
       "delivery_time       9.990017\n",
       "dtype: float64"
      ]
     },
     "execution_count": 6,
     "metadata": {},
     "output_type": "execute_result"
    }
   ],
   "source": [
    "couriers.query('experiment_group == \"control\"').delivery_time.reset_index().std()"
   ]
  },
  {
   "cell_type": "code",
   "execution_count": 7,
   "id": "3246c957",
   "metadata": {},
   "outputs": [
    {
     "data": {
      "text/plain": [
       "index            2916.917894\n",
       "delivery_time       9.883308\n",
       "dtype: float64"
      ]
     },
     "execution_count": 7,
     "metadata": {},
     "output_type": "execute_result"
    }
   ],
   "source": [
    "couriers.query('experiment_group == \"test\"').delivery_time.reset_index().std()"
   ]
  },
  {
   "cell_type": "code",
   "execution_count": 8,
   "id": "931fcb91",
   "metadata": {},
   "outputs": [
    {
     "data": {
      "text/plain": [
       "ShapiroResult(statistic=0.9974724054336548, pvalue=0.12408281117677689)"
      ]
     },
     "execution_count": 8,
     "metadata": {},
     "output_type": "execute_result"
    }
   ],
   "source": [
    "stats.shapiro(sample_couriers_control)"
   ]
  },
  {
   "cell_type": "code",
   "execution_count": 9,
   "id": "32fb0279",
   "metadata": {},
   "outputs": [
    {
     "data": {
      "text/plain": [
       "ShapiroResult(statistic=0.9975473880767822, pvalue=0.14001426100730896)"
      ]
     },
     "execution_count": 9,
     "metadata": {},
     "output_type": "execute_result"
    }
   ],
   "source": [
    "stats.shapiro(sample_couriers_test)"
   ]
  },
  {
   "cell_type": "markdown",
   "id": "e1cee464",
   "metadata": {},
   "source": [
    "### Задание №4.\n",
    "Пришло время сравнить средние в тесте и контроле. Внимание: здесь уже не нужно пользоваться методом .sample() - он нам нужен был только для теста Шапиро-Уилка, остальные тесты надо проводить на полных данных."
   ]
  },
  {
   "cell_type": "code",
   "execution_count": 10,
   "id": "b4bd8ffe",
   "metadata": {},
   "outputs": [
    {
     "data": {
      "text/plain": [
       "Ttest_indResult(statistic=-43.03582663183714, pvalue=0.0)"
      ]
     },
     "execution_count": 10,
     "metadata": {},
     "output_type": "execute_result"
    }
   ],
   "source": [
    "stats.ttest_ind(couriers.query('experiment_group == \"test\"').delivery_time, couriers.query('experiment_group == \"control\"').delivery_time)"
   ]
  },
  {
   "cell_type": "markdown",
   "id": "55ad6c7d",
   "metadata": {},
   "source": [
    "**Ответ:**\n",
    "- Для сравнения средних в данных экспериментальных группах я использую STUDENT'S T-TEST\n",
    "- Статистика в тесте равна (округлите до целого) -43\n",
    "- p-value < 0.05"
   ]
  },
  {
   "cell_type": "markdown",
   "id": "ac77ad94",
   "metadata": {},
   "source": [
    "### Задание №5.\n",
    "На сколько процентов изменилось среднее время доставки в тестовой группе по сравнению с контрольной (округлите до сотых)? "
   ]
  },
  {
   "cell_type": "code",
   "execution_count": 11,
   "id": "bf2a39f4",
   "metadata": {},
   "outputs": [
    {
     "data": {
      "text/plain": [
       "39.04681314330958"
      ]
     },
     "execution_count": 11,
     "metadata": {},
     "output_type": "execute_result"
    }
   ],
   "source": [
    "a_mean = couriers.query('experiment_group == \"test\"').delivery_time.mean()\n",
    "a_mean"
   ]
  },
  {
   "cell_type": "code",
   "execution_count": 12,
   "id": "7a879f5e",
   "metadata": {},
   "outputs": [
    {
     "data": {
      "text/plain": [
       "45.065101070154576"
      ]
     },
     "execution_count": 12,
     "metadata": {},
     "output_type": "execute_result"
    }
   ],
   "source": [
    "b_mean = couriers.query('experiment_group == \"control\"').delivery_time.mean()\n",
    "b_mean"
   ]
  },
  {
   "cell_type": "code",
   "execution_count": 13,
   "id": "de8f4412",
   "metadata": {},
   "outputs": [
    {
     "data": {
      "text/plain": [
       "-13.354653121660817"
      ]
     },
     "execution_count": 13,
     "metadata": {},
     "output_type": "execute_result"
    }
   ],
   "source": [
    "a_mean*100 / b_mean - 100"
   ]
  },
  {
   "cell_type": "markdown",
   "id": "e00d7765",
   "metadata": {},
   "source": [
    "**Ответ:** -13.35 %"
   ]
  }
 ],
 "metadata": {
  "kernelspec": {
   "display_name": "Python 3 (ipykernel)",
   "language": "python",
   "name": "python3"
  },
  "language_info": {
   "codemirror_mode": {
    "name": "ipython",
    "version": 3
   },
   "file_extension": ".py",
   "mimetype": "text/x-python",
   "name": "python",
   "nbconvert_exporter": "python",
   "pygments_lexer": "ipython3",
   "version": "3.10.9"
  }
 },
 "nbformat": 4,
 "nbformat_minor": 5
}

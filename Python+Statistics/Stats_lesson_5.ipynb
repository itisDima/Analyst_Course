{
 "cells": [
  {
   "cell_type": "markdown",
   "id": "63006d02",
   "metadata": {},
   "source": [
    "# Минипроект №5.\n",
    "   На этот раз ситуация следующая: вы работаете в приложении по доставке готовых продуктов. К вам пришел коллега с результатами двух тестов:\n",
    "\n",
    "   В первом тестировали разрешение фотографий блюд в приложении: пользователям показывались либо прямоугольные, либо новые квадратные \n",
    "   Во втором: была обновлена кнопка заказа, и часть юзеров видела старый вариант, а часть – новый\n",
    "   Коллега пришел к вам с просьбой: он посмотрел на графики и предположил, что среди групп могут встретиться различия. Ваша задача – помочь ему проверить гипотезы, сделать соответствующие выводы на основе статистических тестов и принять решения.\n",
    "\n",
    "Задания:\n",
    "- Выберите метод, который предположительно подойдет в первом вопросе.\n",
    "- Проверьте, являются ли дисперсии внутри групп гомогенными.\n",
    "- Проведите тест на нормальность распределения.\n",
    "- Сравните средние в представленных группах.\n",
    "- Используйте критерий Тьюки и определите, между какими группами есть статистически значимые различия. \n",
    "- Примите решение: какие картинки в итоге будем использовать?\n",
    "- Выберите метод для второго теста.\n",
    "- Визуализируйте распределение events для контрольной и тестовой групп. \n",
    "- Посмотрите на описательные статистики events в разбивке по группе и по сегменту пользователя. \n",
    "- Выберите формулу для модели, проведите тест.\n",
    "\n",
    "Описание данных\n",
    "- 5_task_1:\n",
    "  - id – id клиента в эксперименте\n",
    "  - group – в каком разрешении показывались картинки (A – прямоугольные 16:9, B – квадратные, C – прямоугольные 12:4)\n",
    "  - events – сколько блюд суммарно было заказано за период\n",
    "- 5_task_2:\n",
    "  - id – id клиента в эксперименте\n",
    "  - segment – сегмент (high/low)\n",
    "  - group – вид кнопки (control – старая версия, test – новая версия)\n",
    "  - events – сколько блюд суммарно было заказано за период"
   ]
  },
  {
   "cell_type": "code",
   "execution_count": 1,
   "id": "f120f36e",
   "metadata": {},
   "outputs": [],
   "source": [
    "import pandas as pd\n",
    "import numpy as np\n",
    "from scipy import stats\n",
    "import seaborn as sns\n",
    "import matplotlib.pyplot as plt\n",
    "import pingouin as pg\n",
    "from statsmodels.stats.multicomp import (pairwise_tukeyhsd,\n",
    "MultiComparison)\n",
    "from statsmodels.formula.api import ols\n",
    "from statsmodels.stats.anova import anova_lm"
   ]
  },
  {
   "cell_type": "markdown",
   "id": "ba08a051",
   "metadata": {},
   "source": [
    "### Задание №1.\n",
    "Итак, первая задача: нужно проверить, какой формат фотографий блюд является наилучшим, т.е. в какой из групп в среднем покупали больше всего. Всего пользователям показывались три варианта:\n",
    "\n",
    "- A – прямоугольные 16:9\n",
    "- B – квадратные\n",
    "- C – прямоугольные 12:4\n",
    "\n",
    "Каким статистическим тестом нужно воспользоваться для сравнения средних в данном случае?\n",
    "- сделаю вывод исключительно по графику\n",
    "- t-test\n",
    "- посчитаю хи-квадрат\n",
    "- ANOVA"
   ]
  },
  {
   "cell_type": "markdown",
   "id": "fb9c616d",
   "metadata": {},
   "source": [
    "**Ответ:** ANOVA, так как хотим протестировать больше двух групп"
   ]
  },
  {
   "cell_type": "markdown",
   "id": "bd6e6110",
   "metadata": {},
   "source": [
    "### Задание №2.\n",
    "Проверьте, являются ли дисперсии внутри групп примерно одинаковыми (гомогенными) с помощью теста Левена."
   ]
  },
  {
   "cell_type": "code",
   "execution_count": 2,
   "id": "b2397a3d",
   "metadata": {},
   "outputs": [
    {
     "data": {
      "text/html": [
       "<div>\n",
       "<style scoped>\n",
       "    .dataframe tbody tr th:only-of-type {\n",
       "        vertical-align: middle;\n",
       "    }\n",
       "\n",
       "    .dataframe tbody tr th {\n",
       "        vertical-align: top;\n",
       "    }\n",
       "\n",
       "    .dataframe thead th {\n",
       "        text-align: right;\n",
       "    }\n",
       "</style>\n",
       "<table border=\"1\" class=\"dataframe\">\n",
       "  <thead>\n",
       "    <tr style=\"text-align: right;\">\n",
       "      <th></th>\n",
       "      <th>id</th>\n",
       "      <th>group</th>\n",
       "      <th>events</th>\n",
       "    </tr>\n",
       "  </thead>\n",
       "  <tbody>\n",
       "    <tr>\n",
       "      <th>0</th>\n",
       "      <td>16046</td>\n",
       "      <td>A</td>\n",
       "      <td>14</td>\n",
       "    </tr>\n",
       "    <tr>\n",
       "      <th>1</th>\n",
       "      <td>18712</td>\n",
       "      <td>A</td>\n",
       "      <td>41</td>\n",
       "    </tr>\n",
       "    <tr>\n",
       "      <th>2</th>\n",
       "      <td>3268</td>\n",
       "      <td>A</td>\n",
       "      <td>30</td>\n",
       "    </tr>\n",
       "    <tr>\n",
       "      <th>3</th>\n",
       "      <td>22633</td>\n",
       "      <td>A</td>\n",
       "      <td>37</td>\n",
       "    </tr>\n",
       "    <tr>\n",
       "      <th>4</th>\n",
       "      <td>28071</td>\n",
       "      <td>A</td>\n",
       "      <td>38</td>\n",
       "    </tr>\n",
       "  </tbody>\n",
       "</table>\n",
       "</div>"
      ],
      "text/plain": [
       "      id group  events\n",
       "0  16046     A      14\n",
       "1  18712     A      41\n",
       "2   3268     A      30\n",
       "3  22633     A      37\n",
       "4  28071     A      38"
      ]
     },
     "execution_count": 2,
     "metadata": {},
     "output_type": "execute_result"
    }
   ],
   "source": [
    "task_1 = pd.read_csv('C:/Users/79196/Projects/data/5_task_1.csv')\n",
    "task_1.head()"
   ]
  },
  {
   "cell_type": "code",
   "execution_count": 3,
   "id": "04b89833",
   "metadata": {},
   "outputs": [
    {
     "data": {
      "text/html": [
       "<div>\n",
       "<style scoped>\n",
       "    .dataframe tbody tr th:only-of-type {\n",
       "        vertical-align: middle;\n",
       "    }\n",
       "\n",
       "    .dataframe tbody tr th {\n",
       "        vertical-align: top;\n",
       "    }\n",
       "\n",
       "    .dataframe thead th {\n",
       "        text-align: right;\n",
       "    }\n",
       "</style>\n",
       "<table border=\"1\" class=\"dataframe\">\n",
       "  <thead>\n",
       "    <tr style=\"text-align: right;\">\n",
       "      <th></th>\n",
       "      <th>Source</th>\n",
       "      <th>ddof1</th>\n",
       "      <th>ddof2</th>\n",
       "      <th>F</th>\n",
       "      <th>p-unc</th>\n",
       "      <th>np2</th>\n",
       "    </tr>\n",
       "  </thead>\n",
       "  <tbody>\n",
       "    <tr>\n",
       "      <th>0</th>\n",
       "      <td>group</td>\n",
       "      <td>2</td>\n",
       "      <td>29997</td>\n",
       "      <td>2886.166657</td>\n",
       "      <td>0.0</td>\n",
       "      <td>0.161377</td>\n",
       "    </tr>\n",
       "  </tbody>\n",
       "</table>\n",
       "</div>"
      ],
      "text/plain": [
       "  Source  ddof1  ddof2            F  p-unc       np2\n",
       "0  group      2  29997  2886.166657    0.0  0.161377"
      ]
     },
     "execution_count": 3,
     "metadata": {},
     "output_type": "execute_result"
    }
   ],
   "source": [
    "pg.anova(data=task_1, dv=\"events\", between=\"group\")"
   ]
  },
  {
   "cell_type": "code",
   "execution_count": 4,
   "id": "5100c724",
   "metadata": {},
   "outputs": [
    {
     "data": {
      "text/plain": [
       "LeveneResult(statistic=2.2622596339318037, pvalue=0.1041327199523974)"
      ]
     },
     "execution_count": 4,
     "metadata": {},
     "output_type": "execute_result"
    }
   ],
   "source": [
    "stats.levene(task_1.query('group == \"A\"').events, task_1.query('group == \"B\"').events, task_1.query('group == \"C\"').events)"
   ]
  },
  {
   "cell_type": "markdown",
   "id": "a96c4e97",
   "metadata": {},
   "source": [
    "**Ответ:** p-value > 0.05, не отклоняем нулевую гипотезу"
   ]
  },
  {
   "cell_type": "markdown",
   "id": "a0016ffb",
   "metadata": {},
   "source": [
    "### Задание №3.\n",
    "Также убедитесь, что данные распределены нормально, применив тест Шапиро-Уилка. Перед применением критерия при проверке на нормальность обязательно сделайте семплирование (1000 наблюдений), так как на больших выборках могут получаться неверные результаты. Для воспроизводимости результата используйте параметр random_state=17 в методе sample."
   ]
  },
  {
   "cell_type": "code",
   "execution_count": 5,
   "id": "ccaa24c4",
   "metadata": {},
   "outputs": [
    {
     "data": {
      "text/plain": [
       "2688    48\n",
       "233     51\n",
       "9099    53\n",
       "8652    29\n",
       "2842    34\n",
       "        ..\n",
       "4536    33\n",
       "7441    20\n",
       "6372    42\n",
       "1945    27\n",
       "9493    28\n",
       "Name: events, Length: 1000, dtype: int64"
      ]
     },
     "execution_count": 5,
     "metadata": {},
     "output_type": "execute_result"
    }
   ],
   "source": [
    "sample_task_1_A = task_1[task_1['group'] == 'A']['events'].sample(1000, random_state=17)\n",
    "sample_task_1_A"
   ]
  },
  {
   "cell_type": "code",
   "execution_count": 6,
   "id": "5c742823",
   "metadata": {},
   "outputs": [
    {
     "data": {
      "text/plain": [
       "ShapiroResult(statistic=0.9973153471946716, pvalue=0.09609563648700714)"
      ]
     },
     "execution_count": 6,
     "metadata": {},
     "output_type": "execute_result"
    }
   ],
   "source": [
    "stats.shapiro(sample_task_1_A)"
   ]
  },
  {
   "cell_type": "code",
   "execution_count": 7,
   "id": "0bf8b7a3",
   "metadata": {},
   "outputs": [
    {
     "data": {
      "text/plain": [
       "12688    28\n",
       "10233    38\n",
       "19099    37\n",
       "18652    47\n",
       "12842    39\n",
       "         ..\n",
       "14536    21\n",
       "17441    36\n",
       "16372    47\n",
       "11945    62\n",
       "19493    59\n",
       "Name: events, Length: 1000, dtype: int64"
      ]
     },
     "execution_count": 7,
     "metadata": {},
     "output_type": "execute_result"
    }
   ],
   "source": [
    "sample_task_1_B = task_1[task_1['group'] == 'B']['events'].sample(1000, random_state=17)\n",
    "sample_task_1_B"
   ]
  },
  {
   "cell_type": "code",
   "execution_count": 8,
   "id": "a37e611f",
   "metadata": {},
   "outputs": [
    {
     "data": {
      "text/plain": [
       "ShapiroResult(statistic=0.9980818629264832, pvalue=0.3186272084712982)"
      ]
     },
     "execution_count": 8,
     "metadata": {},
     "output_type": "execute_result"
    }
   ],
   "source": [
    "stats.shapiro(sample_task_1_B)"
   ]
  },
  {
   "cell_type": "code",
   "execution_count": 9,
   "id": "d6f73f37",
   "metadata": {},
   "outputs": [
    {
     "data": {
      "text/plain": [
       "22688    27\n",
       "20233    34\n",
       "29099    31\n",
       "28652    41\n",
       "22842    26\n",
       "         ..\n",
       "24536     2\n",
       "27441    20\n",
       "26372    34\n",
       "21945    30\n",
       "29493    36\n",
       "Name: events, Length: 1000, dtype: int64"
      ]
     },
     "execution_count": 9,
     "metadata": {},
     "output_type": "execute_result"
    }
   ],
   "source": [
    "sample_task_1_C = task_1[task_1['group'] == 'C']['events'].sample(1000, random_state=17)\n",
    "sample_task_1_C"
   ]
  },
  {
   "cell_type": "code",
   "execution_count": 10,
   "id": "a36cc8a3",
   "metadata": {},
   "outputs": [
    {
     "data": {
      "text/plain": [
       "ShapiroResult(statistic=0.9981189966201782, pvalue=0.3360903561115265)"
      ]
     },
     "execution_count": 10,
     "metadata": {},
     "output_type": "execute_result"
    }
   ],
   "source": [
    "stats.shapiro(sample_task_1_C)"
   ]
  },
  {
   "cell_type": "markdown",
   "id": "cff4bc92",
   "metadata": {},
   "source": [
    "**Ответ:** все три группы (A, B, C) имеют нормальное распределение данных"
   ]
  },
  {
   "cell_type": "markdown",
   "id": "41c1cdde",
   "metadata": {},
   "source": [
    "### Задание №4.\n",
    "Провести тест на трех группах."
   ]
  },
  {
   "cell_type": "code",
   "execution_count": 11,
   "id": "cedd809b",
   "metadata": {},
   "outputs": [
    {
     "data": {
      "text/plain": [
       "F_onewayResult(statistic=2886.166657438961, pvalue=0.0)"
      ]
     },
     "execution_count": 11,
     "metadata": {},
     "output_type": "execute_result"
    }
   ],
   "source": [
    "stats.f_oneway(task_1.query('group == \"A\"').events, task_1.query('group == \"B\"').events, task_1.query('group == \"C\"').events)"
   ]
  },
  {
   "cell_type": "markdown",
   "id": "3c42197a",
   "metadata": {},
   "source": [
    "- Для сравнения средних я использую ОДНОФАКТОРНЫЙ ДИСПЕРСИОННЫЙ АНАЛИЗ (F_ONEWAY)\n",
    "- Значение статистики равно (окр. до целого) 2886\n",
    "- р-уровень значимости составил 0\n",
    "- Вывод : группы имеют статистически значимые различия между собой, выясним между какими именно группами есть эти различия."
   ]
  },
  {
   "cell_type": "code",
   "execution_count": 12,
   "id": "4ec12875",
   "metadata": {},
   "outputs": [
    {
     "name": "stdout",
     "output_type": "stream",
     "text": [
      "Multiple Comparison of Means - Tukey HSD, FWER=0.05 \n",
      "====================================================\n",
      "group1 group2 meandiff p-adj  lower    upper  reject\n",
      "----------------------------------------------------\n",
      "     A      B    8.034   0.0   7.7038  8.3642   True\n",
      "     A      C  -2.1093   0.0  -2.4395 -1.7791   True\n",
      "     B      C -10.1433   0.0 -10.4735 -9.8131   True\n",
      "----------------------------------------------------\n"
     ]
    }
   ],
   "source": [
    "print(pairwise_tukeyhsd(task_1.events, task_1.group))"
   ]
  },
  {
   "cell_type": "markdown",
   "id": "eeae01d9",
   "metadata": {},
   "source": [
    "***Все три парные выборки различаются между собой***"
   ]
  },
  {
   "cell_type": "markdown",
   "id": "1c391c34",
   "metadata": {},
   "source": [
    "### Задание №5.\n",
    "Так какие картинки в итоге будем использовать?\n",
    "\n",
    "**Ответ:** B - квадратные"
   ]
  },
  {
   "cell_type": "markdown",
   "id": "05c8dbf7",
   "metadata": {},
   "source": [
    "### Задание №6.\n",
    "Во втором эксперименте требуется проверить, как пользователи отреагируют на изменение формата кнопки оформления заказа, с разбивкой по сегменту клиента.\n",
    "\n",
    "Какой метод скорее всего пригодится в данном случае?\n",
    "- однофакторный дисперсионный анализ\n",
    "- t-test\n",
    "- многофакторный дисперсионный анализ\n",
    "- хи-квадрат\n",
    "\n",
    "**Ответ:** многофакторный дисперсионный анализ"
   ]
  },
  {
   "cell_type": "markdown",
   "id": "2408f29d",
   "metadata": {},
   "source": [
    "### Задание №7.\n",
    "Посмотрим на данные. Для начала визуализируйте распределение events для контрольной и тестовой групп."
   ]
  },
  {
   "cell_type": "code",
   "execution_count": 13,
   "id": "a3705bbf",
   "metadata": {},
   "outputs": [
    {
     "data": {
      "text/html": [
       "<div>\n",
       "<style scoped>\n",
       "    .dataframe tbody tr th:only-of-type {\n",
       "        vertical-align: middle;\n",
       "    }\n",
       "\n",
       "    .dataframe tbody tr th {\n",
       "        vertical-align: top;\n",
       "    }\n",
       "\n",
       "    .dataframe thead th {\n",
       "        text-align: right;\n",
       "    }\n",
       "</style>\n",
       "<table border=\"1\" class=\"dataframe\">\n",
       "  <thead>\n",
       "    <tr style=\"text-align: right;\">\n",
       "      <th></th>\n",
       "      <th>id</th>\n",
       "      <th>group</th>\n",
       "      <th>segment</th>\n",
       "      <th>events</th>\n",
       "    </tr>\n",
       "  </thead>\n",
       "  <tbody>\n",
       "    <tr>\n",
       "      <th>0</th>\n",
       "      <td>83440</td>\n",
       "      <td>test</td>\n",
       "      <td>high</td>\n",
       "      <td>78.0</td>\n",
       "    </tr>\n",
       "    <tr>\n",
       "      <th>1</th>\n",
       "      <td>96723</td>\n",
       "      <td>test</td>\n",
       "      <td>high</td>\n",
       "      <td>71.0</td>\n",
       "    </tr>\n",
       "    <tr>\n",
       "      <th>2</th>\n",
       "      <td>68719</td>\n",
       "      <td>test</td>\n",
       "      <td>high</td>\n",
       "      <td>80.0</td>\n",
       "    </tr>\n",
       "    <tr>\n",
       "      <th>3</th>\n",
       "      <td>50399</td>\n",
       "      <td>test</td>\n",
       "      <td>high</td>\n",
       "      <td>80.0</td>\n",
       "    </tr>\n",
       "    <tr>\n",
       "      <th>4</th>\n",
       "      <td>95613</td>\n",
       "      <td>test</td>\n",
       "      <td>high</td>\n",
       "      <td>78.0</td>\n",
       "    </tr>\n",
       "  </tbody>\n",
       "</table>\n",
       "</div>"
      ],
      "text/plain": [
       "      id group segment  events\n",
       "0  83440  test    high    78.0\n",
       "1  96723  test    high    71.0\n",
       "2  68719  test    high    80.0\n",
       "3  50399  test    high    80.0\n",
       "4  95613  test    high    78.0"
      ]
     },
     "execution_count": 13,
     "metadata": {},
     "output_type": "execute_result"
    }
   ],
   "source": [
    "task_2 = pd.read_csv('C:/Users/79196/Projects/data/5_task_2.csv')\n",
    "task_2.head()"
   ]
  },
  {
   "cell_type": "code",
   "execution_count": 14,
   "id": "5a328dca",
   "metadata": {},
   "outputs": [],
   "source": [
    "sns.set(\n",
    "    font_scale=2,\n",
    "    style=\"whitegrid\",\n",
    "    rc={'figure.figsize':(20,7)}\n",
    "        )"
   ]
  },
  {
   "cell_type": "code",
   "execution_count": 15,
   "id": "97262ba2",
   "metadata": {},
   "outputs": [
    {
     "data": {
      "image/png": "[encoded data removed]",
      "text/plain": [
       "<Figure size 2000x700 with 1 Axes>"
      ]
     },
     "metadata": {},
     "output_type": "display_data"
    }
   ],
   "source": [
    "sns.histplot(task_2.query('group == \"control\"').events)\n",
    "plt.title('График распределения events в контрольной группе')\n",
    "sns.despine()"
   ]
  },
  {
   "cell_type": "code",
   "execution_count": 16,
   "id": "e5629923",
   "metadata": {},
   "outputs": [
    {
     "data": {
      "image/png": "[encoded data removed]",
      "text/plain": [
       "<Figure size 2000x700 with 1 Axes>"
      ]
     },
     "metadata": {},
     "output_type": "display_data"
    }
   ],
   "source": [
    "sns.histplot(task_2.query('group == \"test\"').events)\n",
    "plt.title('График распределения events в тестовой группе')\n",
    "sns.despine()"
   ]
  },
  {
   "cell_type": "markdown",
   "id": "aa89606b",
   "metadata": {},
   "source": [
    "### Задание №8.\n",
    "Посчитайте медиану и стандартное отклонение events в разбивке по группе и по сегменту пользователя. В качестве ответа укажите стандартное отклонение для пользователей из сегмента high и контрольной группы, с точностью до 2 знаков после точки."
   ]
  },
  {
   "cell_type": "code",
   "execution_count": 17,
   "id": "1ed65d13",
   "metadata": {},
   "outputs": [
    {
     "data": {
      "text/plain": [
       "70.0"
      ]
     },
     "execution_count": 17,
     "metadata": {},
     "output_type": "execute_result"
    }
   ],
   "source": [
    "task_2.query('group == \"test\" & segment ==\"high\"').events.median()"
   ]
  },
  {
   "cell_type": "code",
   "execution_count": 18,
   "id": "f78098e1",
   "metadata": {},
   "outputs": [
    {
     "data": {
      "text/plain": [
       "33.0"
      ]
     },
     "execution_count": 18,
     "metadata": {},
     "output_type": "execute_result"
    }
   ],
   "source": [
    "task_2.query('group == \"test\" & segment ==\"low\"').events.median()"
   ]
  },
  {
   "cell_type": "code",
   "execution_count": 19,
   "id": "415164ad",
   "metadata": {},
   "outputs": [
    {
     "data": {
      "text/plain": [
       "60.0"
      ]
     },
     "execution_count": 19,
     "metadata": {},
     "output_type": "execute_result"
    }
   ],
   "source": [
    "task_2.query('group == \"control\" & segment ==\"high\"').events.median()"
   ]
  },
  {
   "cell_type": "code",
   "execution_count": 20,
   "id": "a246eb84",
   "metadata": {},
   "outputs": [
    {
     "data": {
      "text/plain": [
       "20.0"
      ]
     },
     "execution_count": 20,
     "metadata": {},
     "output_type": "execute_result"
    }
   ],
   "source": [
    "task_2.query('group == \"control\" & segment ==\"low\"').events.median()"
   ]
  },
  {
   "cell_type": "code",
   "execution_count": 21,
   "id": "288c8ca5",
   "metadata": {},
   "outputs": [
    {
     "data": {
      "text/plain": [
       "8.403974085398076"
      ]
     },
     "execution_count": 21,
     "metadata": {},
     "output_type": "execute_result"
    }
   ],
   "source": [
    "task_2.query('group == \"test\" & segment ==\"high\"').events.std()"
   ]
  },
  {
   "cell_type": "code",
   "execution_count": 22,
   "id": "b5459f18",
   "metadata": {},
   "outputs": [
    {
     "data": {
      "text/plain": [
       "5.720845313076868"
      ]
     },
     "execution_count": 22,
     "metadata": {},
     "output_type": "execute_result"
    }
   ],
   "source": [
    "task_2.query('group == \"test\" & segment ==\"low\"').events.std()"
   ]
  },
  {
   "cell_type": "code",
   "execution_count": 23,
   "id": "30120053",
   "metadata": {},
   "outputs": [
    {
     "data": {
      "text/plain": [
       "7.81"
      ]
     },
     "execution_count": 23,
     "metadata": {},
     "output_type": "execute_result"
    }
   ],
   "source": [
    "round(task_2.query('group == \"control\" & segment ==\"high\"').events.std(), 2)"
   ]
  },
  {
   "cell_type": "code",
   "execution_count": 24,
   "id": "e9a09b23",
   "metadata": {},
   "outputs": [
    {
     "data": {
      "text/plain": [
       "4.473575565622444"
      ]
     },
     "execution_count": 24,
     "metadata": {},
     "output_type": "execute_result"
    }
   ],
   "source": [
    "task_2.query('group == \"control\" & segment ==\"low\"').events.std()"
   ]
  },
  {
   "cell_type": "markdown",
   "id": "ed39b035",
   "metadata": {},
   "source": [
    "**Ответ:** стандартное отклонение для пользователей из сегмента high и контрольной группы = 7.81"
   ]
  },
  {
   "cell_type": "markdown",
   "id": "9e7ed95f",
   "metadata": {},
   "source": [
    "### Задание №9.\n",
    "Почти у цели – осталось выбрать формулу для модели. Напомним, что мы хотим проверить эффект нескольких переменных – group и segment – на events, с взаимодействием факторов.\n",
    "\n",
    "Какую формулу используете?\n",
    "\n",
    "**Ответ:** events ~ segment + group + segment:group"
   ]
  },
  {
   "cell_type": "code",
   "execution_count": 25,
   "id": "33488fff",
   "metadata": {},
   "outputs": [
    {
     "data": {
      "text/html": [
       "<div>\n",
       "<style scoped>\n",
       "    .dataframe tbody tr th:only-of-type {\n",
       "        vertical-align: middle;\n",
       "    }\n",
       "\n",
       "    .dataframe tbody tr th {\n",
       "        vertical-align: top;\n",
       "    }\n",
       "\n",
       "    .dataframe thead th {\n",
       "        text-align: right;\n",
       "    }\n",
       "</style>\n",
       "<table border=\"1\" class=\"dataframe\">\n",
       "  <thead>\n",
       "    <tr style=\"text-align: right;\">\n",
       "      <th></th>\n",
       "      <th>sum_sq</th>\n",
       "      <th>df</th>\n",
       "      <th>F</th>\n",
       "      <th>PR(&gt;F)</th>\n",
       "    </tr>\n",
       "  </thead>\n",
       "  <tbody>\n",
       "    <tr>\n",
       "      <th>segment</th>\n",
       "      <td>2.362480e+07</td>\n",
       "      <td>1.0</td>\n",
       "      <td>689756.377485</td>\n",
       "      <td>0.000000e+00</td>\n",
       "    </tr>\n",
       "    <tr>\n",
       "      <th>group</th>\n",
       "      <td>3.837195e+06</td>\n",
       "      <td>1.0</td>\n",
       "      <td>112031.864119</td>\n",
       "      <td>0.000000e+00</td>\n",
       "    </tr>\n",
       "    <tr>\n",
       "      <th>segment:group</th>\n",
       "      <td>3.664244e+04</td>\n",
       "      <td>1.0</td>\n",
       "      <td>1069.823273</td>\n",
       "      <td>2.060261e-233</td>\n",
       "    </tr>\n",
       "    <tr>\n",
       "      <th>Residual</th>\n",
       "      <td>3.424956e+06</td>\n",
       "      <td>99996.0</td>\n",
       "      <td>NaN</td>\n",
       "      <td>NaN</td>\n",
       "    </tr>\n",
       "  </tbody>\n",
       "</table>\n",
       "</div>"
      ],
      "text/plain": [
       "                     sum_sq       df              F         PR(>F)\n",
       "segment        2.362480e+07      1.0  689756.377485   0.000000e+00\n",
       "group          3.837195e+06      1.0  112031.864119   0.000000e+00\n",
       "segment:group  3.664244e+04      1.0    1069.823273  2.060261e-233\n",
       "Residual       3.424956e+06  99996.0            NaN            NaN"
      ]
     },
     "execution_count": 25,
     "metadata": {},
     "output_type": "execute_result"
    }
   ],
   "source": [
    "formula = 'events ~ segment + group + segment:group'\n",
    "model = ols(formula, task_2).fit()\n",
    "aov_table = anova_lm(model, typ=2)\n",
    "aov_table"
   ]
  },
  {
   "cell_type": "markdown",
   "id": "dc7a2e93",
   "metadata": {},
   "source": [
    "### Задание №10.\n",
    "Проведите тест, а затем используйте критерий Тьюки, чтобы понять между какими группами есть статистически значимые различия.\n",
    "\n",
    "В данном случае для последующих сравнений между группами можно проделать следующую операцию: соединить колонки group и segment в combination, чтобы потом передать в аргумент groups в MultiComparison.\n",
    "\n",
    "Между какими группами были обнаружены статистически значимые различия? Выберите верные утверждения:\n",
    "- Разница между значением у тестовой группы сегмента low и контрольной группой этого же сегмента равна примерно 36\n",
    "- Для обоих сегментов показатели статистически значимо _уменьшились_ по сравнению с контрольной группой\n",
    "- Для обоих сегментов показатели статистически значимо _увеличились_ по сравнению с контрольной группой\n",
    "- Различий совсем не оказалось :(\n",
    "- Разница между control/high и test/high составила около 10\n",
    "- Разница между значением у тестовой группы сегмента low и контрольной группой этого же сегмента равна примерно 13"
   ]
  },
  {
   "cell_type": "code",
   "execution_count": 26,
   "id": "a5c531e5",
   "metadata": {},
   "outputs": [
    {
     "data": {
      "text/html": [
       "<div>\n",
       "<style scoped>\n",
       "    .dataframe tbody tr th:only-of-type {\n",
       "        vertical-align: middle;\n",
       "    }\n",
       "\n",
       "    .dataframe tbody tr th {\n",
       "        vertical-align: top;\n",
       "    }\n",
       "\n",
       "    .dataframe thead th {\n",
       "        text-align: right;\n",
       "    }\n",
       "</style>\n",
       "<table border=\"1\" class=\"dataframe\">\n",
       "  <thead>\n",
       "    <tr style=\"text-align: right;\">\n",
       "      <th></th>\n",
       "      <th>id</th>\n",
       "      <th>group</th>\n",
       "      <th>segment</th>\n",
       "      <th>events</th>\n",
       "      <th>combination</th>\n",
       "    </tr>\n",
       "  </thead>\n",
       "  <tbody>\n",
       "    <tr>\n",
       "      <th>0</th>\n",
       "      <td>83440</td>\n",
       "      <td>test</td>\n",
       "      <td>high</td>\n",
       "      <td>78.0</td>\n",
       "      <td>test/high</td>\n",
       "    </tr>\n",
       "    <tr>\n",
       "      <th>1</th>\n",
       "      <td>96723</td>\n",
       "      <td>test</td>\n",
       "      <td>high</td>\n",
       "      <td>71.0</td>\n",
       "      <td>test/high</td>\n",
       "    </tr>\n",
       "    <tr>\n",
       "      <th>2</th>\n",
       "      <td>68719</td>\n",
       "      <td>test</td>\n",
       "      <td>high</td>\n",
       "      <td>80.0</td>\n",
       "      <td>test/high</td>\n",
       "    </tr>\n",
       "    <tr>\n",
       "      <th>3</th>\n",
       "      <td>50399</td>\n",
       "      <td>test</td>\n",
       "      <td>high</td>\n",
       "      <td>80.0</td>\n",
       "      <td>test/high</td>\n",
       "    </tr>\n",
       "    <tr>\n",
       "      <th>4</th>\n",
       "      <td>95613</td>\n",
       "      <td>test</td>\n",
       "      <td>high</td>\n",
       "      <td>78.0</td>\n",
       "      <td>test/high</td>\n",
       "    </tr>\n",
       "  </tbody>\n",
       "</table>\n",
       "</div>"
      ],
      "text/plain": [
       "      id group segment  events combination\n",
       "0  83440  test    high    78.0   test/high\n",
       "1  96723  test    high    71.0   test/high\n",
       "2  68719  test    high    80.0   test/high\n",
       "3  50399  test    high    80.0   test/high\n",
       "4  95613  test    high    78.0   test/high"
      ]
     },
     "execution_count": 26,
     "metadata": {},
     "output_type": "execute_result"
    }
   ],
   "source": [
    "task_2['combination'] = task_2.group + '/' + task_2.segment\n",
    "task_2.head()"
   ]
  },
  {
   "cell_type": "code",
   "execution_count": 27,
   "id": "c4e8093f",
   "metadata": {},
   "outputs": [
    {
     "name": "stdout",
     "output_type": "stream",
     "text": [
      "      Multiple Comparison of Means - Tukey HSD, FWER=0.05       \n",
      "================================================================\n",
      "   group1       group2   meandiff p-adj  lower    upper   reject\n",
      "----------------------------------------------------------------\n",
      "control/high control/low -39.9392   0.0 -40.1073 -39.7711   True\n",
      "control/high   test/high   9.9677   0.0   9.7551  10.1803   True\n",
      "control/high    test/low -26.9449   0.0  -27.113 -26.7768   True\n",
      " control/low   test/high  49.9069   0.0  49.7388   50.075   True\n",
      " control/low    test/low  12.9944   0.0   12.888  13.1007   True\n",
      "   test/high    test/low -36.9126   0.0 -37.0807 -36.7445   True\n",
      "----------------------------------------------------------------\n"
     ]
    }
   ],
   "source": [
    "print(pairwise_tukeyhsd(task_2.events, task_2.combination)) "
   ]
  },
  {
   "cell_type": "markdown",
   "id": "0c63f1a0",
   "metadata": {},
   "source": [
    "**Ответ:** \n",
    "- Для обоих сегментов показатели статистически значимо _увеличились_ по сравнению с контрольной группой\n",
    "- Разница между control/high и test/high составила около 10\n",
    "- Разница между значением у тестовой группы сегмента low и контрольной группой этого же сегмента равна примерно 13"
   ]
  },
  {
   "cell_type": "markdown",
   "id": "843012a0",
   "metadata": {},
   "source": [
    "### Задание №11.\n",
    "Визуализируйте результаты теста."
   ]
  },
  {
   "cell_type": "code",
   "execution_count": 28,
   "id": "d95f6ac2",
   "metadata": {},
   "outputs": [
    {
     "data": {
      "image/png": "[encoded data removed]",
      "text/plain": [
       "<Figure size 2000x700 with 1 Axes>"
      ]
     },
     "metadata": {},
     "output_type": "display_data"
    }
   ],
   "source": [
    "sns.pointplot(x = 'group', y = 'events', hue = 'segment', data = task_2, capsize = .2)\n",
    "plt.title('Количество event-ов в зависимости от типа группы и типа сегмента')\n",
    "plt.xlabel('Группы')\n",
    "plt.ylabel('Количество events')\n",
    "plt.legend(title = 'Тип Сегмента')\n",
    "sns.despine()"
   ]
  }
 ],
 "metadata": {
  "kernelspec": {
   "display_name": "Python 3 (ipykernel)",
   "language": "python",
   "name": "python3"
  },
  "language_info": {
   "codemirror_mode": {
    "name": "ipython",
    "version": 3
   },
   "file_extension": ".py",
   "mimetype": "text/x-python",
   "name": "python",
   "nbconvert_exporter": "python",
   "pygments_lexer": "ipython3",
   "version": "3.10.9"
  }
 },
 "nbformat": 4,
 "nbformat_minor": 5
}
